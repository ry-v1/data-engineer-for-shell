{
 "cells": [
  {
   "cell_type": "markdown",
   "metadata": {},
   "source": [
    "# Part I. ETL Pipeline for Pre-Processing the Files"
   ]
  },
  {
   "cell_type": "markdown",
   "metadata": {},
   "source": [
    "## PLEASE RUN THE FOLLOWING CODE FOR PRE-PROCESSING THE FILES"
   ]
  },
  {
   "cell_type": "markdown",
   "metadata": {},
   "source": [
    "#### Import Python packages "
   ]
  },
  {
   "cell_type": "code",
   "execution_count": 1,
   "metadata": {},
   "outputs": [],
   "source": [
    "# Import Python packages \n",
    "import pandas as pd\n",
    "import cassandra\n",
    "import re\n",
    "import os\n",
    "import glob\n",
    "import numpy as np\n",
    "import json\n",
    "import csv"
   ]
  },
  {
   "cell_type": "code",
   "execution_count": 2,
   "metadata": {},
   "outputs": [],
   "source": [
    "# pandas print options\n",
    "\n",
    "pd.set_option('display.max_rows', None)\n",
    "pd.set_option('display.max_columns', None)\n",
    "pd.set_option('display.width', 1000)\n",
    "pd.set_option('display.colheader_justify', 'center')\n",
    "pd.set_option('display.precision', 7)"
   ]
  },
  {
   "cell_type": "markdown",
   "metadata": {},
   "source": [
    "#### Creating list of filepaths to process original event csv data files"
   ]
  },
  {
   "cell_type": "code",
   "execution_count": 3,
   "metadata": {},
   "outputs": [
    {
     "name": "stdout",
     "output_type": "stream",
     "text": [
      "/home/workspace\n",
      "['/home/workspace/event_data/2018-11-27-events.csv', '/home/workspace/event_data/2018-11-04-events.csv', '/home/workspace/event_data/2018-11-07-events.csv', '/home/workspace/event_data/2018-11-09-events.csv', '/home/workspace/event_data/2018-11-19-events.csv', '/home/workspace/event_data/2018-11-05-events.csv', '/home/workspace/event_data/2018-11-22-events.csv', '/home/workspace/event_data/2018-11-16-events.csv', '/home/workspace/event_data/2018-11-26-events.csv', '/home/workspace/event_data/2018-11-24-events.csv', '/home/workspace/event_data/2018-11-29-events.csv', '/home/workspace/event_data/2018-11-15-events.csv', '/home/workspace/event_data/2018-11-20-events.csv', '/home/workspace/event_data/2018-11-06-events.csv', '/home/workspace/event_data/2018-11-18-events.csv', '/home/workspace/event_data/2018-11-21-events.csv', '/home/workspace/event_data/2018-11-10-events.csv', '/home/workspace/event_data/2018-11-23-events.csv', '/home/workspace/event_data/2018-11-02-events.csv', '/home/workspace/event_data/2018-11-28-events.csv', '/home/workspace/event_data/2018-11-03-events.csv', '/home/workspace/event_data/2018-11-13-events.csv', '/home/workspace/event_data/2018-11-30-events.csv', '/home/workspace/event_data/2018-11-12-events.csv', '/home/workspace/event_data/2018-11-01-events.csv', '/home/workspace/event_data/2018-11-14-events.csv', '/home/workspace/event_data/2018-11-25-events.csv', '/home/workspace/event_data/2018-11-08-events.csv', '/home/workspace/event_data/2018-11-17-events.csv', '/home/workspace/event_data/2018-11-11-events.csv']\n"
     ]
    }
   ],
   "source": [
    "# checking your current working directory\n",
    "print(os.getcwd())\n",
    "\n",
    "# Get your current folder and subfolder event data\n",
    "filepath = os.getcwd() + '/event_data'\n",
    "\n",
    "# Create a for loop to create a list of files and collect each filepath\n",
    "for root, dirs, files in os.walk(filepath):\n",
    "    \n",
    "# join the file path and roots with the subdirectories using glob\n",
    "    file_path_list = glob.glob(os.path.join(root,'*'))\n",
    "    print(file_path_list)"
   ]
  },
  {
   "cell_type": "markdown",
   "metadata": {},
   "source": [
    "#### Processing the files to create the data file csv that will be used for Apache Casssandra tables"
   ]
  },
  {
   "cell_type": "code",
   "execution_count": 4,
   "metadata": {},
   "outputs": [],
   "source": [
    "# initiating an empty list of rows that will be generated from each file\n",
    "full_data_rows_list = [] \n",
    "    \n",
    "# for every filepath in the file path list \n",
    "for f in file_path_list:\n",
    "\n",
    "# reading csv file \n",
    "    with open(f, 'r', encoding = 'utf8', newline='') as csvfile: \n",
    "        # creating a csv reader object \n",
    "        csvreader = csv.reader(csvfile) \n",
    "        next(csvreader)\n",
    "        \n",
    " # extracting each data row one by one and append it        \n",
    "        for line in csvreader:\n",
    "            #print(line)\n",
    "            full_data_rows_list.append(line) \n",
    "            \n",
    "# uncomment the code below if you would like to get total number of rows \n",
    "#print(len(full_data_rows_list))\n",
    "# uncomment the code below if you would like to check to see what the list of event data rows will look like\n",
    "#print(full_data_rows_list)\n",
    "\n",
    "# creating a smaller event data csv file called event_datafile_full csv that will be used to insert data into the \\\n",
    "# Apache Cassandra tables\n",
    "csv.register_dialect('myDialect', quoting=csv.QUOTE_ALL, skipinitialspace=True)\n",
    "\n",
    "with open('event_datafile_new.csv', 'w', encoding = 'utf8', newline='') as f:\n",
    "    writer = csv.writer(f, dialect='myDialect')\n",
    "    writer.writerow(['artist','firstName','gender','itemInSession','lastName','length',\\\n",
    "                'level','location','sessionId','song','userId'])\n",
    "    for row in full_data_rows_list:\n",
    "        if (row[0] == ''):\n",
    "            continue\n",
    "        writer.writerow((row[0], row[2], row[3], row[4], row[5], row[6], row[7], row[8], row[12], row[13], row[16]))\n"
   ]
  },
  {
   "cell_type": "code",
   "execution_count": 5,
   "metadata": {},
   "outputs": [
    {
     "name": "stdout",
     "output_type": "stream",
     "text": [
      "6821\n"
     ]
    }
   ],
   "source": [
    "# check the number of rows in your csv file\n",
    "with open('event_datafile_new.csv', 'r', encoding = 'utf8') as f:\n",
    "    print(sum(1 for line in f))"
   ]
  },
  {
   "cell_type": "markdown",
   "metadata": {},
   "source": [
    "# Part II. Complete the Apache Cassandra coding portion of your project. \n",
    "\n",
    "## Now you are ready to work with the CSV file titled <font color=red>event_datafile_new.csv</font>, located within the Workspace directory.  The event_datafile_new.csv contains the following columns: \n",
    "- artist \n",
    "- firstName of user\n",
    "- gender of user\n",
    "- item number in session\n",
    "- last name of user\n",
    "- length of the song\n",
    "- level (paid or free song)\n",
    "- location of the user\n",
    "- sessionId\n",
    "- song title\n",
    "- userId\n",
    "\n",
    "The image below is a screenshot of what the denormalized data should appear like in the <font color=red>**event_datafile_new.csv**</font> after the code above is run:<br>\n",
    "\n",
    "<img src=\"images/image_event_datafile_new.jpg\">"
   ]
  },
  {
   "cell_type": "markdown",
   "metadata": {},
   "source": [
    "## Begin writing your Apache Cassandra code in the cells below"
   ]
  },
  {
   "cell_type": "markdown",
   "metadata": {},
   "source": [
    "#### Creating a Cluster"
   ]
  },
  {
   "cell_type": "code",
   "execution_count": 6,
   "metadata": {},
   "outputs": [],
   "source": [
    "# This should make a connection to a Cassandra instance your local machine \n",
    "# (127.0.0.1)\n",
    "\n",
    "from cassandra.cluster import Cluster\n",
    "cluster = Cluster()\n",
    "\n",
    "# To establish connection and begin executing queries, need a session\n",
    "session = cluster.connect()"
   ]
  },
  {
   "cell_type": "markdown",
   "metadata": {},
   "source": [
    "#### Create Keyspace"
   ]
  },
  {
   "cell_type": "code",
   "execution_count": 7,
   "metadata": {},
   "outputs": [],
   "source": [
    "# Create a Keyspace \n",
    "try:\n",
    "    session.execute(\"\"\"\n",
    "    CREATE KEYSPACE IF NOT EXISTS orangeshark\n",
    "    WITH REPLICATION = \n",
    "    { 'class' : 'SimpleStrategy', 'replication_factor' : 1 }\"\"\"\n",
    ")\n",
    "\n",
    "except Exception as e:\n",
    "    print(e)"
   ]
  },
  {
   "cell_type": "markdown",
   "metadata": {},
   "source": [
    "#### Set Keyspace"
   ]
  },
  {
   "cell_type": "code",
   "execution_count": 8,
   "metadata": {},
   "outputs": [],
   "source": [
    "# Set KEYSPACE to the keyspace specified above\n",
    "try:\n",
    "    session.set_keyspace('orangeshark')\n",
    "except Exception as e:\n",
    "    print(e)"
   ]
  },
  {
   "cell_type": "markdown",
   "metadata": {},
   "source": [
    "### Now we need to create tables to run the following queries. Remember, with Apache Cassandra you model the database tables on the queries you want to run."
   ]
  },
  {
   "cell_type": "markdown",
   "metadata": {},
   "source": [
    "## Create queries to ask the following three questions of the data\n",
    "\n",
    "### 1. Give me the artist, song title and song's length in the music app history that was heard during  sessionId = 338, and itemInSession  = 4\n",
    "\n",
    "\n",
    "### 2. Give me only the following: name of artist, song (sorted by itemInSession) and user (first and last name) for userid = 10, sessionid = 182\n",
    "    \n",
    "\n",
    "### 3. Give me every user name (first and last) in my music app history who listened to the song 'All Hands Against His Own'\n",
    "\n",
    "\n"
   ]
  },
  {
   "cell_type": "markdown",
   "metadata": {},
   "source": [
    "### Key references\n",
    "\n",
    "* 0  - artist\n",
    "* 1  - firstName of user\n",
    "* 2  - gender of user\n",
    "* 3  - item number in session\n",
    "* 4  - last name of user\n",
    "* 5  - length of the song\n",
    "* 6  - level (paid or free song)\n",
    "* 7  - location of the user\n",
    "* 8  - sessionId\n",
    "* 9  - song title\n",
    "* 10 - userId"
   ]
  },
  {
   "cell_type": "code",
   "execution_count": 9,
   "metadata": {},
   "outputs": [],
   "source": [
    "## Query 1:  Give me the artist, song title and song's length in the music app history that was heard during \\\n",
    "## sessionId = 338, and itemInSession = 4\n",
    "\n",
    "#\n",
    "# SELECT artist, song_title, song_length FROM music_app_history1 WHERE session_id = 338 AND item_in_session = 4\n",
    "#"
   ]
  },
  {
   "cell_type": "markdown",
   "metadata": {},
   "source": [
    "### Query# 1 Notes\n",
    "\n",
    "- Query# 1 requires the artist, song and song length data based on sessionId, itemInSession.\n",
    "\n",
    "- So, chose ***sessionId and itemInSession*** as the PRIMARY KEY "
   ]
  },
  {
   "cell_type": "code",
   "execution_count": 10,
   "metadata": {},
   "outputs": [],
   "source": [
    "# Create TABLE for query# 1\n",
    "\n",
    "query1_create = \"CREATE TABLE IF NOT EXISTS songs_played_in_session \"\n",
    "query1_create = query1_create + \"(session_id INT, item_in_session INT, artist TEXT \\\n",
    "                            , song_title TEXT, song_length FLOAT \\\n",
    "                            , PRIMARY KEY(session_id, item_in_session)); \"\n",
    "\n",
    "try:\n",
    "    session.execute(query1_create)\n",
    "except Exception as e:\n",
    "    print(e)\n",
    "    "
   ]
  },
  {
   "cell_type": "code",
   "execution_count": 11,
   "metadata": {
    "scrolled": false
   },
   "outputs": [],
   "source": [
    "# INSERT data into table for query# 1\n",
    "\n",
    "file = 'event_datafile_new.csv'\n",
    "\n",
    "with open(file, encoding = 'utf8') as f:\n",
    "    csvreader = csv.reader(f)\n",
    "    next(csvreader) # skip header\n",
    "    for line in csvreader:\n",
    "        try:\n",
    "            query1_insert = \"INSERT INTO songs_played_in_session (session_id, \\\n",
    "                            item_in_session, artist, song_title, song_length) \" \n",
    "            query1_insert = query1_insert + \" VALUES (%s, %s, %s, %s, %s); \"\n",
    "            session.execute(query1_insert, (int(line[8]), int(line[3]), line[0],\n",
    "                                            line[9], float(line[5])))\n",
    "        except Exception as e:\n",
    "            print(e)"
   ]
  },
  {
   "cell_type": "markdown",
   "metadata": {},
   "source": [
    "#### Do a SELECT to verify that the data have been inserted into each table"
   ]
  },
  {
   "cell_type": "code",
   "execution_count": 12,
   "metadata": {
    "scrolled": true
   },
   "outputs": [
    {
     "name": "stdout",
     "output_type": "stream",
     "text": [
      "[Row(count=6820)]\n"
     ]
    }
   ],
   "source": [
    "query = \"select count(*) as count from songs_played_in_session \"\n",
    "try:\n",
    "    rows = list(session.execute(query))\n",
    "except Exception as e:\n",
    "    print(e)\n",
    "    \n",
    "print(rows)"
   ]
  },
  {
   "cell_type": "markdown",
   "metadata": {},
   "source": [
    "## Query# 1 result\n"
   ]
  },
  {
   "cell_type": "code",
   "execution_count": 13,
   "metadata": {},
   "outputs": [
    {
     "name": "stdout",
     "output_type": "stream",
     "text": [
      " Query# 1 Results - song played in the session_id with 338 and item_in_session with 4 \n",
      " ------------------------------------------------------------------------------------ \n",
      "    artist              song_title             song_length\n",
      "0  Faithless  Music Matters (Mark Knight Dub)  495.307312 \n"
     ]
    }
   ],
   "source": [
    "query1_select = \"SELECT artist, song_title, song_length \\\n",
    "                 FROM songs_played_in_session \\\n",
    "                 WHERE session_id = 338 AND item_in_session = 4 ; \"\n",
    "\n",
    "try:\n",
    "    rows = session.execute(query1_select)\n",
    "except Exception as e:\n",
    "    print(e)\n",
    "\n",
    "print(\" Query# 1 Results - song played in the session_id with 338 and item_in_session with 4 \")\n",
    "print(\" ------------------------------------------------------------------------------------ \")\n",
    "print(pd.DataFrame(list(rows)))"
   ]
  },
  {
   "cell_type": "markdown",
   "metadata": {},
   "source": [
    "### COPY AND REPEAT THE ABOVE THREE CELLS FOR EACH OF THE THREE QUESTIONS"
   ]
  },
  {
   "cell_type": "code",
   "execution_count": 14,
   "metadata": {},
   "outputs": [],
   "source": [
    "## Query 2: Give me only the following: name of artist, song (sorted by itemInSession) and user (first and last name)\\\n",
    "## for userid = 10, sessionid = 182\n",
    "\n",
    "# SELECT artist, song_title, user_first_name, user_last_name FROM music_app_history1 \n",
    "# WHERE userid = 10 AND sessionid = 182 ORDER BY item_in_session ; \n"
   ]
  },
  {
   "cell_type": "markdown",
   "metadata": {},
   "source": [
    "### Query# 2 Notes\n",
    "\n",
    "- Query# 2 requires the artist, song, user data based on userid, sessionId, and sorted by itemInSession.\n",
    "\n",
    "- So, chose userid, sessionId as PRIMARY KEY, and itemInSession as clustering column\n"
   ]
  },
  {
   "cell_type": "code",
   "execution_count": 15,
   "metadata": {},
   "outputs": [],
   "source": [
    "# Create TABLE for query# 2\n",
    "\n",
    "query2_create = \"CREATE TABLE IF NOT EXISTS songs_played_by_user \"\n",
    "query2_create = query2_create + \"(user_id INT, session_id INT, item_in_session INT \\\n",
    "    , artist TEXT, song_title TEXT, user_first_name TEXT, user_last_name TEXT \\\n",
    "    , PRIMARY KEY((user_id, session_id), item_in_session)); \"\n",
    "\n",
    "try:\n",
    "    session.execute(query2_create)\n",
    "except Exception as e:\n",
    "    print(e)\n",
    "    "
   ]
  },
  {
   "cell_type": "code",
   "execution_count": 16,
   "metadata": {},
   "outputs": [],
   "source": [
    "# INSERT data into table for query# 2\n",
    "\n",
    "file = 'event_datafile_new.csv'\n",
    "\n",
    "with open(file, encoding = 'utf8') as f:\n",
    "    csvreader = csv.reader(f)\n",
    "    next(csvreader) \n",
    "    for line in csvreader:\n",
    "        query2_insert = \"INSERT INTO songs_played_by_user (user_id, session_id, item_in_session, \\\n",
    "                        artist, song_title, user_first_name, user_last_name) \"\n",
    "        query2_insert = query2_insert + \"VALUES (%s, %s, %s, %s, %s, %s, %s) ; \"\n",
    "        try:\n",
    "            session.execute(query2_insert, (int(line[10]), int(line[8]), int(line[3]), line[0],\n",
    "                                        line[9], line[1], line[4] ) )\n",
    "        except Exception as e:\n",
    "            print(e)"
   ]
  },
  {
   "cell_type": "code",
   "execution_count": 17,
   "metadata": {},
   "outputs": [
    {
     "name": "stdout",
     "output_type": "stream",
     "text": [
      " Query# 2 Result - songs played by user_id with 10 and in session_id 182 \n",
      " ----------------------------------------------------------------------- \n",
      "        artist                           song_title                     user_first_name user_last_name\n",
      "0   Down To The Bone                                 Keep On Keepin' On      Sylvie          Cruz     \n",
      "1       Three Drives                                        Greece 2000      Sylvie          Cruz     \n",
      "2  Sebastien Tellier                                          Kilometer      Sylvie          Cruz     \n",
      "3      Lonnie Gordon  Catch You Baby (Steve Pitron & Max Sanna Radio...      Sylvie          Cruz     \n"
     ]
    }
   ],
   "source": [
    "# Query# 2 result\n",
    "\n",
    "query2_select = \"SELECT artist, song_title, user_first_name, user_last_name \\\n",
    "                FROM songs_played_by_user \\\n",
    "                WHERE user_id = 10 AND session_id = 182; \"\n",
    "\n",
    "try:\n",
    "    rows = session.execute(query2_select)\n",
    "except Exception as e:\n",
    "    print(e)\n",
    "    \n",
    "df_users_songs = pd.DataFrame(list(rows))\n",
    "\n",
    "print(\" Query# 2 Result - songs played by user_id with 10 and in session_id 182 \")\n",
    "print(\" ----------------------------------------------------------------------- \")\n",
    "print(df_users_songs)\n",
    "\n",
    "#for row in rows:\n",
    "#    print(\"Artist: \" + row.artist + \", Title: \" + row.song_title +\n",
    "#          \", User: \" + row.user_first_name + ' ' + row.user_last_name)\n",
    "    "
   ]
  },
  {
   "cell_type": "code",
   "execution_count": 18,
   "metadata": {},
   "outputs": [],
   "source": [
    "## Query 3: Give me every user name (first and last) in my music app history who listened to the song 'All Hands Against His Own'\n",
    "\n",
    "# SELECT user_first_name, user_last_name AS user FROM music_app_history2 \n",
    "# WHERE song_title = 'All Hands Against His Own'; \"\n",
    "                    "
   ]
  },
  {
   "cell_type": "markdown",
   "metadata": {},
   "source": [
    "### Query# 3 Notes\n",
    "\n",
    "- Query# 3 requires user data based on song_title.\n",
    "\n",
    "- So, chose song_title as PRIMARY KEY with userid as clustering column"
   ]
  },
  {
   "cell_type": "code",
   "execution_count": 19,
   "metadata": {},
   "outputs": [],
   "source": [
    "# Create TABLE for query# 3\n",
    "\n",
    "query3_create = \"CREATE TABLE IF NOT EXISTS song_listeners \"\n",
    "query3_create = query3_create + \"(song_title TEXT, user_id INT, user_first_name TEXT, \\\n",
    "    user_last_name TEXT, PRIMARY KEY((song_title), user_id)); \"\n",
    "\n",
    "try:\n",
    "    session.execute(query3_create)\n",
    "except Exception as e:\n",
    "    print(e)\n",
    "    "
   ]
  },
  {
   "cell_type": "code",
   "execution_count": 20,
   "metadata": {},
   "outputs": [],
   "source": [
    "# INSERT data into table for query# 3\n",
    "\n",
    "file = 'event_datafile_new.csv'\n",
    "\n",
    "with open(file, encoding = 'utf8') as f:\n",
    "    csvreader = csv.reader(f)\n",
    "    next(csvreader) \n",
    "    for line in csvreader:\n",
    "        query3_insert = \"INSERT INTO song_listeners(song_title, user_id, user_first_name, user_last_name) \"\n",
    "        query3_insert = query3_insert + \" VALUES (%s, %s, %s, %s); \"  \n",
    "        try:\n",
    "            session.execute(query3_insert, (line[9], int(line[10]), line[1], line[4]))\n",
    "        except Exception as e:\n",
    "            print(e)"
   ]
  },
  {
   "cell_type": "code",
   "execution_count": 21,
   "metadata": {},
   "outputs": [
    {
     "name": "stdout",
     "output_type": "stream",
     "text": [
      " Query# 3 Results - Users listened to 'All Hands Against His Own' song \n",
      " --------------------------------------------------------------------- \n",
      "  user_first_name user_last_name\n",
      "0    Jacqueline         Lynch   \n",
      "1         Tegan        Levine   \n",
      "2          Sara       Johnson   \n"
     ]
    }
   ],
   "source": [
    "# Query# 3 result\n",
    "\n",
    "query3_select = \"select user_first_name, user_last_name \\\n",
    "                FROM song_listeners \\\n",
    "                WHERE song_title = 'All Hands Against His Own' ; \"\n",
    "try:\n",
    "    rows = session.execute(query3_select)\n",
    "except Exception as e:\n",
    "    print(e)\n",
    "\n",
    "print(\" Query# 3 Results - Users listened to 'All Hands Against His Own' song \")\n",
    "print(\" --------------------------------------------------------------------- \")\n",
    "print(pd.DataFrame(list(rows)))\n",
    "\n",
    "#for row in rows:\n",
    "#    print (row.user_first_name + ' ' + row.user_last_name)"
   ]
  },
  {
   "cell_type": "markdown",
   "metadata": {},
   "source": [
    "### Drop the tables before closing out the sessions"
   ]
  },
  {
   "cell_type": "code",
   "execution_count": 22,
   "metadata": {},
   "outputs": [],
   "source": [
    "## Drop the table before closing out the sessions"
   ]
  },
  {
   "cell_type": "code",
   "execution_count": 23,
   "metadata": {},
   "outputs": [],
   "source": [
    "query = \"drop table songs_played_in_session\"\n",
    "try:\n",
    "    rows = session.execute(query)\n",
    "except Exception as e:\n",
    "    print(e)\n",
    "\n",
    "query = \"drop table songs_played_by_user\"\n",
    "try:\n",
    "    rows = session.execute(query)\n",
    "except Exception as e:\n",
    "    print(e)\n",
    "\n",
    "query = \"drop table song_listeners\"\n",
    "try:\n",
    "    rows = session.execute(query)\n",
    "except Exception as e:\n",
    "    print(e)    "
   ]
  },
  {
   "cell_type": "markdown",
   "metadata": {},
   "source": [
    "### Close the session and cluster connection¶"
   ]
  },
  {
   "cell_type": "code",
   "execution_count": 24,
   "metadata": {},
   "outputs": [],
   "source": [
    "session.shutdown()\n",
    "cluster.shutdown()"
   ]
  },
  {
   "cell_type": "code",
   "execution_count": null,
   "metadata": {},
   "outputs": [],
   "source": []
  }
 ],
 "metadata": {
  "kernelspec": {
   "display_name": "Python 3",
   "language": "python",
   "name": "python3"
  },
  "language_info": {
   "codemirror_mode": {
    "name": "ipython",
    "version": 3
   },
   "file_extension": ".py",
   "mimetype": "text/x-python",
   "name": "python",
   "nbconvert_exporter": "python",
   "pygments_lexer": "ipython3",
   "version": "3.6.3"
  }
 },
 "nbformat": 4,
 "nbformat_minor": 2
}
